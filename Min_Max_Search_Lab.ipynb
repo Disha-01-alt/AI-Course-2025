{
  "nbformat": 4,
  "nbformat_minor": 0,
  "metadata": {
    "colab": {
      "provenance": [],
      "include_colab_link": true
    },
    "kernelspec": {
      "name": "python3",
      "display_name": "Python 3"
    },
    "language_info": {
      "name": "python"
    }
  },
  "cells": [
    {
      "cell_type": "markdown",
      "metadata": {
        "id": "view-in-github",
        "colab_type": "text"
      },
      "source": [
        "<a href=\"https://colab.research.google.com/github/Disha-01-alt/AI-Course-2025/blob/main/Min_Max_Search_Lab.ipynb\" target=\"_parent\"><img src=\"https://colab.research.google.com/assets/colab-badge.svg\" alt=\"Open In Colab\"/></a>"
      ]
    },
    {
      "cell_type": "markdown",
      "source": [
        "# Lab Assignment: Tic Tac Toe with Minimax Search\n",
        "\n",
        "## Objective\n",
        "In this lab, you will:\n",
        "- Implement Tic Tac Toe using Python.\n",
        "- Write state functions (`S0`, `Player`, `Actions`, `Result`, `Terminal`, `Utility`).\n",
        "- Implement the **Minimax algorithm**.\n",
        "- Count the number of states evaluated.\n",
        "- Compare theoretical vs actual states explored."
      ],
      "metadata": {
        "id": "Btd5ixFj6Bv5"
      }
    },
    {
      "cell_type": "code",
      "execution_count": null,
      "metadata": {
        "id": "kz7sExzS56jF"
      },
      "outputs": [],
      "source": [
        "# -----------------------------\n",
        "# Part A: State Representation\n",
        "# -----------------------------\n",
        "\n",
        "# Initial state (S0): empty 3x3 board\n",
        "S0 = [\" \" for _ in range(9)]\n",
        "\n",
        "\n",
        "def print_board(state):\n",
        "    \"\"\"Print the board in a 3x3 format\"\"\"\n",
        "    print(state[0]+\"|\"+state[1]+\"|\"+state[2])\n",
        "    print(\"-+-+-\")\n",
        "    print(state[3]+\"|\"+state[4]+\"|\"+state[5])\n",
        "    print(\"-+-+-\")\n",
        "    print(state[6]+\"|\"+state[7]+\"|\"+state[8])\n",
        "\n"
      ]
    },
    {
      "cell_type": "code",
      "source": [
        "print_board(S0)"
      ],
      "metadata": {
        "colab": {
          "base_uri": "https://localhost:8080/"
        },
        "id": "vBinAEsXmqwH",
        "outputId": "ea2cf0e0-0ecf-4965-d40a-8ca186881021"
      },
      "execution_count": null,
      "outputs": [
        {
          "output_type": "stream",
          "name": "stdout",
          "text": [
            " | | \n",
            "-+-+-\n",
            " | | \n",
            "-+-+-\n",
            " | | \n"
          ]
        }
      ]
    },
    {
      "cell_type": "code",
      "source": [
        "# -----------------------------\n",
        "# TODO Part A: Implement State Functions\n",
        "# -----------------------------\n",
        "\n",
        "def Player(state):\n",
        "    \"\"\"Return which player has the next turn\"\"\"\n",
        "    # TODO: Implement using counts of X and O\n",
        "    count_X=0\n",
        "    count_O=0\n",
        "    for i in range(len(state)):\n",
        "      if state[i]=='X':\n",
        "         count_X+=1\n",
        "      elif state[i]=='O':\n",
        "         count_O+=1\n",
        "    if count_X>count_O:\n",
        "      return 'O'\n",
        "    else:\n",
        "      return 'X'\n",
        "def Actions(state):\n",
        "    \"\"\"Return list of legal moves\"\"\"\n",
        "    # TODO: Return all indexes that are still empty\n",
        "    empty_pos=[]\n",
        "    for i in range(len(state)):\n",
        "      if state[i]==\" \":\n",
        "         empty_pos.append(i)\n",
        "    return empty_pos\n",
        "\n",
        "\n",
        "def Result(state, action):\n",
        "    \"\"\"Return new state after action is taken\"\"\"\n",
        "    # TODO: Copy the state and apply the move\n",
        "    new_state=state.copy()\n",
        "    new_state[action]=Player(state)\n",
        "    return new_state\n",
        "\n",
        "\n",
        "def Terminal(state):\n",
        "    \"\"\"Return True if the state is terminal (win or draw)\"\"\"\n",
        "    # TODO: Check for win or if no moves left\n",
        "    win_pos=[[0,1,2],[3,4,5],[6,7,8],[0,3,6],[1,4,7],[2,5,8],[0,4,8],[2,4,6]]\n",
        "    for pos in win_pos:\n",
        "      l=[]\n",
        "      if state[pos[0]]==state[pos[1]]==state[pos[2]]==\"X\":\n",
        "        return True\n",
        "      elif   state[pos[0]]==state[pos[1]]==state[pos[2]]==\"O\":\n",
        "        return True\n",
        "    if len(Actions(state))==0:\n",
        "      return True\n",
        "    return False\n",
        "\n",
        "\n",
        "\n",
        "\n",
        "\n",
        "def Utility(state):\n",
        "    \"\"\"Return +1 if X wins, -1 if O wins, else 0\"\"\"\n",
        "    # TODO: Implement win/draw logic\n",
        "    if Terminal(state):\n",
        "      win_pos=[[0,1,2],[3,4,5],[6,7,8],[0,3,6],[1,4,7],[2,5,8],[0,4,8],[2,4,6]]\n",
        "      for pos in win_pos:\n",
        "        l=[]\n",
        "        if state[pos[0]]==state[pos[1]]==state[pos[2]]==\"X\":\n",
        "          return 1\n",
        "        elif   state[pos[0]]==state[pos[1]]==state[pos[2]]==\"O\":\n",
        "          return -1\n",
        "      if len(Actions(state))==0:\n",
        "        return 0"
      ],
      "metadata": {
        "id": "fwonz2Ud6Mx0"
      },
      "execution_count": null,
      "outputs": []
    },
    {
      "cell_type": "code",
      "source": [
        "# -----------------------------\n",
        "# Part B: Minimax Implementation\n",
        "# -----------------------------\n",
        "\n",
        "\n",
        "def MAX_VALUE(state):\n",
        "    global call_count\n",
        "    call_count+=1\n",
        "    if Terminal(state):\n",
        "        return Utility(state)\n",
        "\n",
        "    v = float(\"-inf\")\n",
        "    for action in Actions(state):\n",
        "        v = max(v, MIN_VALUE(Result(state, action)))\n",
        "    return v\n",
        "\n",
        "\n",
        "def MIN_VALUE(state):\n",
        "    global call_count\n",
        "    call_count+=1\n",
        "\n",
        "    if Terminal(state):\n",
        "        return Utility(state)\n",
        "\n",
        "    v = float(\"inf\")\n",
        "    for action in Actions(state):\n",
        "        v = min(v, MAX_VALUE(Result(state, action)))\n",
        "    return v\n",
        "\n",
        "\n",
        "def minimax_decision(state):\n",
        "    \"\"\"Return best move for current player\"\"\"\n",
        "    global call_count\n",
        "    call_count = 0\n",
        "\n",
        "    player = Player(state)\n",
        "    best_move = None\n",
        "\n",
        "    if player == \"X\":\n",
        "        best_val = float(\"-inf\")\n",
        "        for action in Actions(state):\n",
        "            val = MIN_VALUE(Result(state, action))\n",
        "            if val > best_val:\n",
        "                best_val = val\n",
        "                best_move = action\n",
        "    else:\n",
        "        best_val = float(\"inf\")\n",
        "        for action in Actions(state):\n",
        "            val = MAX_VALUE(Result(state, action))\n",
        "            if val < best_val:\n",
        "                best_val = val\n",
        "                best_move = action\n",
        "\n",
        "    return best_move\n"
      ],
      "metadata": {
        "id": "rnBBSH8o6Rhh"
      },
      "execution_count": null,
      "outputs": []
    },
    {
      "cell_type": "code",
      "source": [
        "# -----------------------------\n",
        "# Part C: Human vs AI Game\n",
        "# -----------------------------\n",
        "\n",
        "# Add Code to detect invalid move also\n",
        "\n",
        "# -----------------------------\n",
        "# Part C: Human vs AI Game\n",
        "# -----------------------------\n",
        "\n",
        "def play():\n",
        "    state = S0.copy()\n",
        "    invalid_moves = 0  # counter for invalid moves\n",
        "\n",
        "    while not Terminal(state):\n",
        "        print_board(state)\n",
        "        if Player(state) == \"X\":  # Human move\n",
        "            while True:\n",
        "                try:\n",
        "                    move = int(input(\"Enter your move (1-9): \")) - 1\n",
        "                    if move not in range(9):\n",
        "                        print(\"Invalid input! Enter a number from 1 to 9.\")\n",
        "                        invalid_moves += 1\n",
        "                    elif state[move] != \" \":\n",
        "                        print(\"Cell already occupied! Choose another.\")\n",
        "                        invalid_moves += 1\n",
        "                    else:\n",
        "                        break\n",
        "                except ValueError:\n",
        "                    print(\"Invalid input! Enter a number from 1 to 9.\")\n",
        "                    invalid_moves += 1\n",
        "\n",
        "        else:  # AI move\n",
        "            print(\"AI is thinking...\")\n",
        "            move = minimax_decision(state)\n",
        "\n",
        "        state = Result(state, move)\n",
        "\n",
        "    print_board(state)\n",
        "    print(f\"Total invalid moves attempted by human: {invalid_moves}\")\n",
        "    if Utility(state) == 1:\n",
        "        print(\"X wins!\")\n",
        "    elif Utility(state) == -1:\n",
        "        print(\"O wins!\")\n",
        "    else:\n",
        "        print(\"It's a draw!\")\n"
      ],
      "metadata": {
        "id": "MzX_7U456h-E"
      },
      "execution_count": null,
      "outputs": []
    },
    {
      "cell_type": "code",
      "source": [
        "play()"
      ],
      "metadata": {
        "colab": {
          "base_uri": "https://localhost:8080/"
        },
        "id": "7XjBY1NJY2JS",
        "outputId": "bfcac971-0c34-4504-f529-e5f7de6853cc"
      },
      "execution_count": null,
      "outputs": [
        {
          "output_type": "stream",
          "name": "stdout",
          "text": [
            " | | \n",
            "-+-+-\n",
            " | | \n",
            "-+-+-\n",
            " | | \n",
            "Enter your move (1-9): 5\n",
            " | | \n",
            "-+-+-\n",
            " |X| \n",
            "-+-+-\n",
            " | | \n",
            "AI is thinking...\n",
            "O| | \n",
            "-+-+-\n",
            " |X| \n",
            "-+-+-\n",
            " | | \n",
            "Enter your move (1-9): 1\n",
            "Cell already occupied! Choose another.\n",
            "Enter your move (1-9): 2\n",
            "O|X| \n",
            "-+-+-\n",
            " |X| \n",
            "-+-+-\n",
            " | | \n",
            "AI is thinking...\n",
            "O|X| \n",
            "-+-+-\n",
            " |X| \n",
            "-+-+-\n",
            " |O| \n",
            "Enter your move (1-9): 2\n",
            "Cell already occupied! Choose another.\n",
            "Enter your move (1-9): 5\n",
            "Cell already occupied! Choose another.\n",
            "Enter your move (1-9): 7\n",
            "O|X| \n",
            "-+-+-\n",
            " |X| \n",
            "-+-+-\n",
            "X|O| \n",
            "AI is thinking...\n",
            "O|X|O\n",
            "-+-+-\n",
            " |X| \n",
            "-+-+-\n",
            "X|O| \n",
            "Enter your move (1-9): 4\n",
            "O|X|O\n",
            "-+-+-\n",
            "X|X| \n",
            "-+-+-\n",
            "X|O| \n",
            "AI is thinking...\n",
            "O|X|O\n",
            "-+-+-\n",
            "X|X|O\n",
            "-+-+-\n",
            "X|O| \n",
            "Enter your move (1-9): 9\n",
            "O|X|O\n",
            "-+-+-\n",
            "X|X|O\n",
            "-+-+-\n",
            "X|O|X\n",
            "Total invalid moves attempted by human: 3\n",
            "It's a draw!\n"
          ]
        }
      ]
    },
    {
      "cell_type": "markdown",
      "source": [
        "# -----------------------------\n",
        "# Part D: Experiment and Analysis\n",
        "# -----------------------------\n",
        "\n",
        "1. Run the game where X plays first in the center (position 5).\n",
        "2. Note down the number of states AI explored.\n",
        "3. Compare with:\n",
        "   - 8! = 40,320 (leaf-only sequences)\n",
        "   - 8+8⋅7+8⋅7⋅6+⋯+8! = 109,600 (all partial states)\n",
        "4. Explain why actual count (~55,504) is smaller than 109,600.\n"
      ],
      "metadata": {
        "id": "l0aDwYO57PnU"
      }
    },
    {
      "cell_type": "code",
      "source": [
        "# X plays first in center (position 5)\n",
        "state = [\" \", \" \", \" \",\n",
        "         \" \", \"X\", \" \",\n",
        "         \" \", \" \", \" \"]\n"
      ],
      "metadata": {
        "id": "ghphZqCRbEHe"
      },
      "execution_count": null,
      "outputs": []
    },
    {
      "cell_type": "code",
      "source": [
        "global call_count\n",
        "call_count = 0\n"
      ],
      "metadata": {
        "id": "F8kn1YC9bHbb"
      },
      "execution_count": null,
      "outputs": []
    },
    {
      "cell_type": "code",
      "source": [
        "ai_move = minimax_decision(state)\n",
        "print(\"AI chooses position:\", ai_move + 1)\n",
        "print(\"Number of states explored by AI:\", call_count)\n"
      ],
      "metadata": {
        "colab": {
          "base_uri": "https://localhost:8080/"
        },
        "id": "iqnb58W-a3Sa",
        "outputId": "569c44d4-bf61-4962-e3f9-9ae0f819e775"
      },
      "execution_count": null,
      "outputs": [
        {
          "output_type": "stream",
          "name": "stdout",
          "text": [
            "AI chooses position: 1\n",
            "Number of states explored by AI: 55504\n"
          ]
        }
      ]
    },
    {
      "cell_type": "markdown",
      "source": [
        "\n",
        "**2. Number of states AI explored:**  \n",
        "- Using `minimax_decision(state)` with a global `call_count` variable:  \n",
        "- **Nodes explored by AI:** ~55,504\n",
        "\n",
        "**3. Comparison with theoretical counts:**  \n",
        "- **Leaf-only sequences (full games):** 8! = 40,320  \n",
        "  - Counts only complete sequences of moves until the board is full.  \n",
        "- **All partial states (every intermediate board):** 8 + 8·7 + 8·7·6 + … + 8! ≈ 109,600  \n",
        "  - Maximum number of states if every possible board were explored without early termination.\n",
        "\n",
        "**4. Explanation:**  \n",
        "- The actual number of explored states (~55,504) is **less than 109,600** because:\n",
        "  - **Early termination:** Minimax stops exploring a branch once a terminal state (win, lose, or draw) is reached.  \n",
        "  - **Pruning effect:** Branches leading to early wins or losses are not expanded fully.  \n",
        "- It is **more than the leaf-only count (40,320)** because partial states are also counted, not just full games.\n",
        "\n",
        "**Conclusion:**  \n",
        "- Minimax efficiently explores the game tree by avoiding unnecessary branches, which reduces the total number of states explored compared to the theoretical maximum.\n"
      ],
      "metadata": {
        "id": "8n-mH0Srbh8I"
      }
    },
    {
      "cell_type": "markdown",
      "source": [
        "# -----------------------------\n",
        "# Part E: Written Questions\n",
        "# -----------------------------\n",
        "\n",
        "Answer briefly:\n",
        "\n",
        "1. Why does Minimax need to evaluate so many states in Tic Tac Toe?\n",
        "2. Difference between full tree size and actual explored states?\n",
        "3. How do early wins reduce the number of states?\n",
        "4. What challenges would arise if applying Minimax to Chess?\n"
      ],
      "metadata": {
        "id": "8FK7ZBl87bWL"
      }
    },
    {
      "cell_type": "markdown",
      "source": [
        "# Part E: Written Questions\n",
        "\n",
        "**1. Why does Minimax need to evaluate so many states in Tic Tac Toe?**  \n",
        "- Minimax explores all possible moves for both players to make **optimal decisions**.  \n",
        "- Even in a small game like Tic Tac Toe, the number of possible board sequences grows factorially as moves increase.\n",
        "\n",
        "**2. Difference between full tree size and actual explored states:**  \n",
        "- **Full tree size** counts all possible moves and partial boards without considering early wins.  \n",
        "- **Actual explored states** are fewer because Minimax stops exploring once a **terminal state** (win, lose, draw) is reached.\n",
        "\n",
        "**3. How do early wins reduce the number of states?**  \n",
        "- If a player wins before the board is full, all moves after that are **not explored**.  \n",
        "- This **prunes branches naturally**, reducing the number of states Minimax needs to evaluate.\n",
        "\n",
        "**4. What challenges would arise if applying Minimax to Chess?**  \n",
        "- The **branching factor** is huge (each player has ~20–40 legal moves per turn).  \n",
        "- The **depth of the game tree** is very large (~50–100 moves per game).  \n",
        "- **Computationally infeasible** to explore all states → needs **heuristics, pruning (alpha-beta), and evaluation functions**.\n"
      ],
      "metadata": {
        "id": "kwm2EaZvb7lN"
      }
    }
  ]
}