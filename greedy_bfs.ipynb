{
 "cells": [
  {
   "cell_type": "code",
   "execution_count": 6,
   "id": "1dd8b159",
   "metadata": {},
   "outputs": [],
   "source": [
    "maze = [\n",
    "    ['A', 0,  1,  0,  0,  0, 1, 0, 0, 1, 0, 0],\n",
    "    [0,   0,  1,  0,  1,  0, 1, 0, 1, 0, 0, 0],\n",
    "    [1,   0,  0,  0,  1,  0, 0, 0, 1, 1, 1, 0],\n",
    "    [0,   1,  1,  0,  0,  1, 1, 0, 0, 0, 1, 0],\n",
    "    [0,   0,  0,  0,  1,  0, 1, 1, 1, 0, 0, 0],\n",
    "    [1,   1,  1,  0,  1,  0, 0, 0, 1, 1, 1, 0],\n",
    "    [0,   0,  1,  0,  0,  0, 1, 0, 0, 0, 1, 0],\n",
    "    [0,   1,  0,  1,  1,  0, 1, 1, 1, 0, 1, 0],\n",
    "    [0,   0,  0,  0,  0,  0, 0, 0, 1, 0, 0, 0],\n",
    "    [1,   1,  1,  1,  1,  1, 0, 1, 0, 1, 1, 0],\n",
    "    [0,   0,  0,  0,  0,  0, 0, 1, 0, 0, 0, 0],\n",
    "    [0,   1,  1,  1,  1,  1, 1, 1, 1, 1, 1,'B'],\n",
    "]"
   ]
  },
  {
   "cell_type": "code",
   "execution_count": 13,
   "id": "88aeba4f",
   "metadata": {},
   "outputs": [],
   "source": [
    "import heapq\n",
    "\n",
    "# Define Manhattan distance heuristic\n",
    "def manhattan(a, b):\n",
    "    return abs(a[0] - b[0]) + abs(a[1] - b[1])"
   ]
  },
  {
   "cell_type": "code",
   "execution_count": 7,
   "id": "87975826",
   "metadata": {},
   "outputs": [],
   "source": [
    "def find_positions(maze):\n",
    "  start,goal=None,None\n",
    "  for i in range(len(maze)):\n",
    "    for j in range(len(maze[0])):\n",
    "      if maze[i][j]=='A':\n",
    "        start=(i,j)\n",
    "      elif maze[i][j]=='B':\n",
    "        goal=(i,j)\n",
    "  return start,goal"
   ]
  },
  {
   "cell_type": "code",
   "execution_count": 14,
   "id": "92a14c7e",
   "metadata": {},
   "outputs": [],
   "source": [
    "def mazeManhattan(maze):\n",
    "  start,goal=find_positions(maze)\n",
    "  distMatrix=[]\n",
    "  rows,cols=len(maze),len(maze[0])\n",
    "  for i in range(rows):\n",
    "    row=[]\n",
    "    for j in range(cols):\n",
    "      if maze[i][j]=='A':\n",
    "        row.append('A')\n",
    "      elif maze[i][j]=='B':\n",
    "        row.append('B')\n",
    "      elif maze[i][j]==1:\n",
    "        row.append('#')\n",
    "      else:\n",
    "        row.append( manhattan((i,j),goal))\n",
    "    distMatrix.append(row)\n",
    "  return distMatrix"
   ]
  },
  {
   "cell_type": "code",
   "execution_count": 15,
   "id": "af654d45",
   "metadata": {},
   "outputs": [
    {
     "data": {
      "text/plain": [
       "[['A', 21, '#', 19, 18, 17, '#', 15, 14, '#', 12, 11],\n",
       " [21, 20, '#', 18, '#', 16, '#', 14, '#', 12, 11, 10],\n",
       " ['#', 19, 18, 17, '#', 15, 14, 13, '#', '#', '#', 9],\n",
       " [19, '#', '#', 16, 15, '#', '#', 12, 11, 10, '#', 8],\n",
       " [18, 17, 16, 15, '#', 13, '#', '#', '#', 9, 8, 7],\n",
       " ['#', '#', '#', 14, '#', 12, 11, 10, '#', '#', '#', 6],\n",
       " [16, 15, '#', 13, 12, 11, '#', 9, 8, 7, '#', 5],\n",
       " [15, '#', 13, '#', '#', 10, '#', '#', '#', 6, '#', 4],\n",
       " [14, 13, 12, 11, 10, 9, 8, 7, '#', 5, 4, 3],\n",
       " ['#', '#', '#', '#', '#', '#', 7, '#', 5, '#', '#', 2],\n",
       " [12, 11, 10, 9, 8, 7, 6, '#', 4, 3, 2, 1],\n",
       " [11, '#', '#', '#', '#', '#', '#', '#', '#', '#', '#', 'B']]"
      ]
     },
     "execution_count": 15,
     "metadata": {},
     "output_type": "execute_result"
    }
   ],
   "source": [
    "mazeManhattan(maze)"
   ]
  },
  {
   "cell_type": "code",
   "execution_count": null,
   "id": "15d1e94d",
   "metadata": {},
   "outputs": [],
   "source": [
    "class BFS"
   ]
  }
 ],
 "metadata": {
  "kernelspec": {
   "display_name": "venv (3.12.3)",
   "language": "python",
   "name": "python3"
  },
  "language_info": {
   "codemirror_mode": {
    "name": "ipython",
    "version": 3
   },
   "file_extension": ".py",
   "mimetype": "text/x-python",
   "name": "python",
   "nbconvert_exporter": "python",
   "pygments_lexer": "ipython3",
   "version": "3.12.3"
  }
 },
 "nbformat": 4,
 "nbformat_minor": 5
}
